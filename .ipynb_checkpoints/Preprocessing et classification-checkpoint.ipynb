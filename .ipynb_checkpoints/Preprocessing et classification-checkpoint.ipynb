{
 "cells": [
  {
   "cell_type": "code",
   "execution_count": 1,
   "metadata": {},
   "outputs": [],
   "source": [
    "import pandas as pd\n",
    "import matplotlib.pyplot as plt\n",
    "import matplotlib\n",
    "import numpy as np\n",
    "import os\n",
    "from glob import glob\n",
    "import cv2\n",
    "import fnmatch\n",
    "from sklearn.model_selection import train_test_split, KFold, cross_val_score, StratifiedKFold, learning_curve, GridSearchCV"
   ]
  },
  {
   "cell_type": "code",
   "execution_count": 2,
   "metadata": {},
   "outputs": [],
   "source": [
    "import numpy as np\n",
    "import matplotlib.pylab as plt\n",
    "#from scipy.misc import imresize, imread\n",
    "import itertools\n",
    "import sklearn\n",
    "from sklearn import model_selection\n",
    "from sklearn.model_selection import train_test_split, KFold, cross_val_score, StratifiedKFold, learning_curve, GridSearchCV\n",
    "from sklearn.metrics import confusion_matrix, make_scorer, accuracy_score\n",
    "from sklearn.linear_model import LogisticRegression\n",
    "from sklearn.tree import DecisionTreeClassifier\n",
    "from sklearn.neighbors import KNeighborsClassifier\n",
    "from sklearn.discriminant_analysis import LinearDiscriminantAnalysis\n",
    "from sklearn.naive_bayes import GaussianNB\n",
    "from sklearn.svm import SVC, LinearSVC\n",
    "from sklearn.ensemble import RandomForestClassifier, GradientBoostingClassifier\n",
    "import keras\n",
    "from keras import backend as K\n",
    "from keras.callbacks import Callback, EarlyStopping, ReduceLROnPlateau, ModelCheckpoint\n",
    "from keras.preprocessing.image import ImageDataGenerator\n",
    "from keras.utils.np_utils import to_categorical\n",
    "from keras.models import Sequential, model_from_json\n",
    "from keras.optimizers import SGD, RMSprop, Adam, Adagrad, Adadelta\n",
    "from keras.layers import Dense, Dropout, Activation, Flatten, BatchNormalization, Conv2D, MaxPool2D, MaxPooling2D\n",
    "%matplotlib inline"
   ]
  },
  {
   "cell_type": "code",
   "execution_count": 3,
   "metadata": {},
   "outputs": [
    {
     "name": "stdout",
     "output_type": "stream",
     "text": [
      "C:/Users/hp/Documents/MSD/PFA/Dataset/IDC_regular_ps50_idx5\\10253\\0\\10253_idx5_x1001_y1001_class0.png\n",
      "C:/Users/hp/Documents/MSD/PFA/Dataset/IDC_regular_ps50_idx5\\10253\\0\\10253_idx5_x1001_y1051_class0.png\n",
      "C:/Users/hp/Documents/MSD/PFA/Dataset/IDC_regular_ps50_idx5\\10253\\0\\10253_idx5_x1001_y1101_class0.png\n",
      "C:/Users/hp/Documents/MSD/PFA/Dataset/IDC_regular_ps50_idx5\\10253\\0\\10253_idx5_x1001_y1151_class0.png\n",
      "C:/Users/hp/Documents/MSD/PFA/Dataset/IDC_regular_ps50_idx5\\10253\\0\\10253_idx5_x1001_y1201_class0.png\n",
      "C:/Users/hp/Documents/MSD/PFA/Dataset/IDC_regular_ps50_idx5\\10253\\0\\10253_idx5_x1001_y1251_class0.png\n",
      "C:/Users/hp/Documents/MSD/PFA/Dataset/IDC_regular_ps50_idx5\\10253\\0\\10253_idx5_x1001_y1301_class0.png\n",
      "C:/Users/hp/Documents/MSD/PFA/Dataset/IDC_regular_ps50_idx5\\10253\\0\\10253_idx5_x1001_y1351_class0.png\n",
      "C:/Users/hp/Documents/MSD/PFA/Dataset/IDC_regular_ps50_idx5\\10253\\0\\10253_idx5_x1001_y1501_class0.png\n",
      "C:/Users/hp/Documents/MSD/PFA/Dataset/IDC_regular_ps50_idx5\\10253\\0\\10253_idx5_x1001_y1551_class0.png\n"
     ]
    }
   ],
   "source": [
    "imagePatches = glob('C:/Users/hp/Documents/MSD/PFA/Dataset/IDC_regular_ps50_idx5/**/*.png', recursive=True)\n",
    "for filename in imagePatches[0:10]:\n",
    "    print(filename)"
   ]
  },
  {
   "cell_type": "code",
   "execution_count": 4,
   "metadata": {},
   "outputs": [
    {
     "name": "stdout",
     "output_type": "stream",
     "text": [
      "IDC(-)\n",
      "\n",
      " ['C:/Users/hp/Documents/MSD/PFA/Dataset/IDC_regular_ps50_idx5\\\\10253\\\\0\\\\10253_idx5_x1001_y1001_class0.png', 'C:/Users/hp/Documents/MSD/PFA/Dataset/IDC_regular_ps50_idx5\\\\10253\\\\0\\\\10253_idx5_x1001_y1051_class0.png', 'C:/Users/hp/Documents/MSD/PFA/Dataset/IDC_regular_ps50_idx5\\\\10253\\\\0\\\\10253_idx5_x1001_y1101_class0.png', 'C:/Users/hp/Documents/MSD/PFA/Dataset/IDC_regular_ps50_idx5\\\\10253\\\\0\\\\10253_idx5_x1001_y1151_class0.png', 'C:/Users/hp/Documents/MSD/PFA/Dataset/IDC_regular_ps50_idx5\\\\10253\\\\0\\\\10253_idx5_x1001_y1201_class0.png'] \n",
      "\n",
      "IDC(+)\n",
      "\n",
      " ['C:/Users/hp/Documents/MSD/PFA/Dataset/IDC_regular_ps50_idx5\\\\10253\\\\1\\\\10253_idx5_x501_y351_class1.png', 'C:/Users/hp/Documents/MSD/PFA/Dataset/IDC_regular_ps50_idx5\\\\10253\\\\1\\\\10253_idx5_x501_y401_class1.png', 'C:/Users/hp/Documents/MSD/PFA/Dataset/IDC_regular_ps50_idx5\\\\10253\\\\1\\\\10253_idx5_x551_y301_class1.png', 'C:/Users/hp/Documents/MSD/PFA/Dataset/IDC_regular_ps50_idx5\\\\10253\\\\1\\\\10253_idx5_x551_y351_class1.png', 'C:/Users/hp/Documents/MSD/PFA/Dataset/IDC_regular_ps50_idx5\\\\10253\\\\1\\\\10253_idx5_x551_y401_class1.png']\n"
     ]
    }
   ],
   "source": [
    "patternZero = '*class0.png'\n",
    "patternOne = '*class1.png'\n",
    "classZero = fnmatch.filter(imagePatches, patternZero)\n",
    "classOne = fnmatch.filter(imagePatches, patternOne)\n",
    "print(\"IDC(-)\\n\\n\",classZero[0:5],'\\n')\n",
    "print(\"IDC(+)\\n\\n\",classOne[0:5])"
   ]
  },
  {
   "cell_type": "code",
   "execution_count": 5,
   "metadata": {},
   "outputs": [],
   "source": [
    "def proc_images(lowerIndex,upperIndex):\n",
    "    \"\"\"\n",
    "    Returns two arrays: \n",
    "        x is an array of resized images\n",
    "        y is an array of labels\n",
    "    \"\"\" \n",
    "    x = []\n",
    "    y = []\n",
    "    WIDTH = 50\n",
    "    HEIGHT = 50\n",
    "    for img in imagePatches[lowerIndex:upperIndex]:\n",
    "        full_size_image = cv2.imread(img)\n",
    "        x.append(cv2.resize(full_size_image, (WIDTH,HEIGHT), interpolation=cv2.INTER_CUBIC))\n",
    "        if img in classZero:\n",
    "            y.append(0)\n",
    "        elif img in classOne:\n",
    "            y.append(1)\n",
    "        else:\n",
    "            return\n",
    "    return x,y"
   ]
  },
  {
   "cell_type": "code",
   "execution_count": 6,
   "metadata": {},
   "outputs": [],
   "source": [
    "X,Y = proc_images(0,90000)\n",
    "df = pd.DataFrame()\n",
    "df[\"images\"]=X\n",
    "df[\"labels\"]=Y\n",
    "X2=df[\"images\"]\n",
    "Y2=df[\"labels\"]\n",
    "X2=np.array(X2)\n",
    "imgs0=[]\n",
    "imgs1=[]\n",
    "imgs0 = X2[Y2==0] # (0 = no IDC, 1 = IDC)\n",
    "imgs1 = X2[Y2==1] "
   ]
  },
  {
   "cell_type": "code",
   "execution_count": 7,
   "metadata": {},
   "outputs": [
    {
     "name": "stdout",
     "output_type": "stream",
     "text": [
      "Total number of images: 90000\n",
      "Number of IDC(-) Images: 64583\n",
      "Number of IDC(+) Images: 25417\n",
      "Percentage of positive images: 28.24%\n",
      "Image shape (Width, Height, Channels): (50, 50, 3)\n"
     ]
    }
   ],
   "source": [
    "def describeData(a,b):\n",
    "    print('Total number of images: {}'.format(len(a)))\n",
    "    print('Number of IDC(-) Images: {}'.format(np.sum(b==0)))\n",
    "    print('Number of IDC(+) Images: {}'.format(np.sum(b==1)))\n",
    "    print('Percentage of positive images: {:.2f}%'.format(100*np.mean(b)))\n",
    "    print('Image shape (Width, Height, Channels): {}'.format(a[0].shape))\n",
    "describeData(X2,Y2)"
   ]
  },
  {
   "cell_type": "code",
   "execution_count": 8,
   "metadata": {},
   "outputs": [
    {
     "name": "stdout",
     "output_type": "stream",
     "text": [
      "                                              images  labels\n",
      "0  [[[206, 164, 226], [196, 154, 224], [211, 175,...       0\n",
      "1  [[[197, 150, 219], [201, 158, 217], [205, 173,...       0\n",
      "2  [[[249, 245, 248], [248, 246, 248], [253, 246,...       0\n",
      "3  [[[249, 247, 249], [249, 247, 249], [249, 247,...       0\n",
      "4  [[[237, 231, 241], [245, 242, 246], [235, 222,...       0\n",
      "5  [[[248, 246, 248], [248, 246, 248], [248, 246,...       0\n",
      "6  [[[175, 120, 212], [145, 88, 175], [132, 72, 1...       0\n",
      "7  [[[87, 38, 142], [120, 94, 165], [195, 180, 21...       0\n",
      "8  [[[235, 228, 240], [242, 240, 246], [252, 244,...       0\n",
      "9  [[[238, 223, 242], [239, 235, 241], [250, 245,...       0\n",
      "\n",
      "{0: 'IDC(-)', 1: 'IDC(+)'}\n"
     ]
    }
   ],
   "source": [
    "dict_characters = {0: 'IDC(-)', 1: 'IDC(+)'}\n",
    "print(df.head(10))\n",
    "print(\"\")\n",
    "print(dict_characters)"
   ]
  },
  {
   "cell_type": "code",
   "execution_count": 9,
   "metadata": {},
   "outputs": [
    {
     "data": {
      "image/png": "[encoded data removed]",
      "text/plain": [
       "<Figure size 720x360 with 2 Axes>"
      ]
     },
     "metadata": {
      "needs_background": "light"
     },
     "output_type": "display_data"
    }
   ],
   "source": [
    "def plotHistogram(a):\n",
    "    \"\"\"\n",
    "    Plot histogram of RGB Pixel Intensities\n",
    "    \"\"\"\n",
    "    plt.figure(figsize=(10,5))\n",
    "    plt.subplot(1,2,1)\n",
    "    plt.imshow(a)\n",
    "    plt.axis('off')\n",
    "    plt.title('IDC(+)' if Y[1] else 'IDC(-)')\n",
    "    histo = plt.subplot(1,2,2)\n",
    "    histo.set_ylabel('Count')\n",
    "    histo.set_xlabel('Pixel Intensity')\n",
    "    n_bins = 30\n",
    "    plt.hist(a[:,:,0].flatten(), bins= n_bins, lw = 0, color='r', alpha=0.5);\n",
    "    plt.hist(a[:,:,1].flatten(), bins= n_bins, lw = 0, color='g', alpha=0.5);\n",
    "    plt.hist(a[:,:,2].flatten(), bins= n_bins, lw = 0, color='b', alpha=0.5);\n",
    "plotHistogram(X2[100])"
   ]
  },
  {
   "cell_type": "code",
   "execution_count": 10,
   "metadata": {},
   "outputs": [],
   "source": [
    "X=np.array(X)"
   ]
  },
  {
   "cell_type": "code",
   "execution_count": 11,
   "metadata": {},
   "outputs": [],
   "source": [
    "X=X/255.0"
   ]
  },
  {
   "cell_type": "code",
   "execution_count": 12,
   "metadata": {},
   "outputs": [],
   "source": [
    "X_train, X_test, Y_train, Y_test = train_test_split(X, Y, test_size=0.2)"
   ]
  },
  {
   "cell_type": "code",
   "execution_count": 13,
   "metadata": {},
   "outputs": [],
   "source": [
    "# Reduce Sample Size for DeBugging\n",
    "X_train = X_train[0:300000] \n",
    "Y_train = Y_train[0:300000]"
   ]
  },
  {
   "cell_type": "code",
   "execution_count": 14,
   "metadata": {},
   "outputs": [],
   "source": [
    "X_test = X_test[0:300000] \n",
    "Y_test = Y_test[0:300000]"
   ]
  },
  {
   "cell_type": "code",
   "execution_count": 15,
   "metadata": {},
   "outputs": [
    {
     "name": "stdout",
     "output_type": "stream",
     "text": [
      "Training Data Shape: (72000, 50, 50, 3)\n",
      "Testing Data Shape: (18000, 50, 50, 3)\n"
     ]
    }
   ],
   "source": [
    "print(\"Training Data Shape:\", X_train.shape)\n",
    "print(\"Testing Data Shape:\", X_test.shape)"
   ]
  },
  {
   "cell_type": "code",
   "execution_count": 16,
   "metadata": {},
   "outputs": [
    {
     "data": {
      "image/png": "[encoded data removed]",
      "text/plain": [
       "<Figure size 720x360 with 2 Axes>"
      ]
     },
     "metadata": {
      "needs_background": "light"
     },
     "output_type": "display_data"
    }
   ],
   "source": [
    "plotHistogram(X_train[100])"
   ]
  },
  {
   "cell_type": "code",
   "execution_count": 17,
   "metadata": {},
   "outputs": [],
   "source": [
    "from keras.utils.np_utils import to_categorical"
   ]
  },
  {
   "cell_type": "code",
   "execution_count": 18,
   "metadata": {},
   "outputs": [],
   "source": [
    "# Encode labels to hot vectors (ex : 2 -> [0,0,1,0,0,0,0,0,0,0])\n",
    "Y_trainHot = to_categorical(Y_train, num_classes = 2)\n",
    "Y_testHot = to_categorical(Y_test, num_classes = 2)"
   ]
  },
  {
   "cell_type": "code",
   "execution_count": 19,
   "metadata": {},
   "outputs": [],
   "source": [
    "from imblearn.over_sampling import RandomOverSampler\n",
    "from imblearn.under_sampling import RandomUnderSampler"
   ]
  },
  {
   "cell_type": "code",
   "execution_count": 20,
   "metadata": {},
   "outputs": [],
   "source": [
    "import seaborn as sns"
   ]
  },
  {
   "cell_type": "code",
   "execution_count": 21,
   "metadata": {},
   "outputs": [
    {
     "name": "stderr",
     "output_type": "stream",
     "text": [
      "C:\\Users\\hp\\anaconda3\\lib\\site-packages\\seaborn\\_decorators.py:36: FutureWarning: Pass the following variable as a keyword arg: x. From version 0.12, the only valid positional argument will be `data`, and passing other arguments without an explicit keyword will result in an error or misinterpretation.\n",
      "  warnings.warn(\n"
     ]
    },
    {
     "name": "stdout",
     "output_type": "stream",
     "text": [
      "{0: 'IDC(-)', 1: 'IDC(+)'}\n"
     ]
    },
    {
     "data": {
      "image/png": "[encoded data removed]",
      "text/plain": [
       "<Figure size 432x288 with 1 Axes>"
      ]
     },
     "metadata": {
      "needs_background": "light"
     },
     "output_type": "display_data"
    }
   ],
   "source": [
    "lab = df['labels']\n",
    "dist = lab.value_counts()\n",
    "sns.countplot(lab)\n",
    "print(dict_characters)"
   ]
  },
  {
   "cell_type": "code",
   "execution_count": 22,
   "metadata": {},
   "outputs": [
    {
     "name": "stderr",
     "output_type": "stream",
     "text": [
      "C:\\Users\\hp\\anaconda3\\lib\\site-packages\\seaborn\\_decorators.py:36: FutureWarning: Pass the following variable as a keyword arg: x. From version 0.12, the only valid positional argument will be `data`, and passing other arguments without an explicit keyword will result in an error or misinterpretation.\n",
      "  warnings.warn(\n"
     ]
    },
    {
     "name": "stdout",
     "output_type": "stream",
     "text": [
      "{0: 'IDC(-)', 1: 'IDC(+)'}\n"
     ]
    },
    {
     "data": {
      "image/png": "[encoded data removed]",
      "text/plain": [
       "<Figure size 432x288 with 1 Axes>"
      ]
     },
     "metadata": {
      "needs_background": "light"
     },
     "output_type": "display_data"
    }
   ],
   "source": [
    "# Deal with imbalanced class sizes below\n",
    "# Make Data 1D for compatability upsampling methods\n",
    "X_trainShape = X_train.shape[1]*X_train.shape[2]*X_train.shape[3]\n",
    "X_testShape = X_test.shape[1]*X_test.shape[2]*X_test.shape[3]\n",
    "X_trainFlat = X_train.reshape(X_train.shape[0], X_trainShape)\n",
    "X_testFlat = X_test.reshape(X_test.shape[0], X_testShape)\n",
    "#print(\"X_train Shape: \",X_train.shape)\n",
    "#print(\"X_test Shape: \",X_test.shape)\n",
    "#print(\"X_trainFlat Shape: \",X_trainFlat.shape)\n",
    "#print(\"X_testFlat Shape: \",X_testFlat.shape)\n",
    "\n",
    "\n",
    "#ros = RandomOverSampler(ratio='auto')\n",
    "ros = RandomUnderSampler()\n",
    "X_trainRos, Y_trainRos = ros.fit_resample(X_trainFlat, Y_train)\n",
    "X_testRos, Y_testRos = ros.fit_resample(X_testFlat, Y_test)\n",
    "\n",
    "# Encode labels to hot vectors (ex : 2 -> [0,0,1,0,0,0,0,0,0,0])\n",
    "Y_trainRosHot = to_categorical(Y_trainRos, num_classes = 2)\n",
    "Y_testRosHot = to_categorical(Y_testRos, num_classes = 2)\n",
    "#print(\"X_train: \", X_train.shape)\n",
    "#print(\"X_trainFlat: \", X_trainFlat.shape)\n",
    "#print(\"X_trainRos Shape: \",X_trainRos.shape)\n",
    "#print(\"X_testRos Shape: \",X_testRos.shape)\n",
    "#print(\"Y_trainRosHot Shape: \",Y_trainRosHot.shape)\n",
    "#print(\"Y_testRosHot Shape: \",Y_testRosHot.shape)\n",
    "\n",
    "for i in range(len(X_trainRos)):\n",
    "    height, width, channels = 50,50,3\n",
    "    X_trainRosReshaped = X_trainRos.reshape(len(X_trainRos),height,width,channels)\n",
    "#print(\"X_trainRos Shape: \",X_trainRos.shape)\n",
    "#print(\"X_trainRosReshaped Shape: \",X_trainRosReshaped.shape)\n",
    "\n",
    "for i in range(len(X_testRos)):\n",
    "    height, width, channels = 50,50,3\n",
    "    X_testRosReshaped = X_testRos.reshape(len(X_testRos),height,width,channels)\n",
    "#print(\"X_testRos Shape: \",X_testRos.shape)\n",
    "#print(\"X_testRosReshaped Shape: \",X_testRosReshaped.shape)\n",
    "\n",
    "dfRos = pd.DataFrame()\n",
    "dfRos[\"labels\"]=Y_trainRos\n",
    "labRos = dfRos['labels']\n",
    "distRos = lab.value_counts()\n",
    "sns.countplot(labRos)\n",
    "print(dict_characters)"
   ]
  },
  {
   "cell_type": "code",
   "execution_count": 23,
   "metadata": {},
   "outputs": [],
   "source": [
    "from sklearn.linear_model import LogisticRegression\n",
    "from sklearn import model_selection\n"
   ]
  },
  {
   "cell_type": "code",
   "execution_count": 24,
   "metadata": {},
   "outputs": [],
   "source": [
    "#runLogisticRegression\n",
    "def runLogisticRegression(a,b,c,d):\n",
    "    \"\"\"Run LogisticRegression w/ Kfold CV\"\"\"\n",
    "    model = LogisticRegression()\n",
    "    model.fit(a,b)\n",
    "    kfold = model_selection.KFold(n_splits=10)\n",
    "    accuracy = model_selection.cross_val_score(model, c,d, cv=kfold, scoring='accuracy')\n",
    "    mean = accuracy.mean() \n",
    "    stdev = accuracy.std()\n",
    "    #print('LogisticRegression - Training set accuracy: ', mean)\n",
    "    print('LogisticRegression - done')"
   ]
  },
  {
   "cell_type": "code",
   "execution_count": 25,
   "metadata": {},
   "outputs": [
    {
     "name": "stderr",
     "output_type": "stream",
     "text": [
      "C:\\Users\\hp\\anaconda3\\lib\\site-packages\\sklearn\\linear_model\\_logistic.py:763: ConvergenceWarning: lbfgs failed to converge (status=1):\n",
      "STOP: TOTAL NO. of ITERATIONS REACHED LIMIT.\n",
      "\n",
      "Increase the number of iterations (max_iter) or scale the data as shown in:\n",
      "    https://scikit-learn.org/stable/modules/preprocessing.html\n",
      "Please also refer to the documentation for alternative solver options:\n",
      "    https://scikit-learn.org/stable/modules/linear_model.html#logistic-regression\n",
      "  n_iter_i = _check_optimize_result(\n",
      "C:\\Users\\hp\\anaconda3\\lib\\site-packages\\sklearn\\linear_model\\_logistic.py:763: ConvergenceWarning: lbfgs failed to converge (status=1):\n",
      "STOP: TOTAL NO. of ITERATIONS REACHED LIMIT.\n",
      "\n",
      "Increase the number of iterations (max_iter) or scale the data as shown in:\n",
      "    https://scikit-learn.org/stable/modules/preprocessing.html\n",
      "Please also refer to the documentation for alternative solver options:\n",
      "    https://scikit-learn.org/stable/modules/linear_model.html#logistic-regression\n",
      "  n_iter_i = _check_optimize_result(\n",
      "C:\\Users\\hp\\anaconda3\\lib\\site-packages\\sklearn\\linear_model\\_logistic.py:763: ConvergenceWarning: lbfgs failed to converge (status=1):\n",
      "STOP: TOTAL NO. of ITERATIONS REACHED LIMIT.\n",
      "\n",
      "Increase the number of iterations (max_iter) or scale the data as shown in:\n",
      "    https://scikit-learn.org/stable/modules/preprocessing.html\n",
      "Please also refer to the documentation for alternative solver options:\n",
      "    https://scikit-learn.org/stable/modules/linear_model.html#logistic-regression\n",
      "  n_iter_i = _check_optimize_result(\n",
      "C:\\Users\\hp\\anaconda3\\lib\\site-packages\\sklearn\\linear_model\\_logistic.py:763: ConvergenceWarning: lbfgs failed to converge (status=1):\n",
      "STOP: TOTAL NO. of ITERATIONS REACHED LIMIT.\n",
      "\n",
      "Increase the number of iterations (max_iter) or scale the data as shown in:\n",
      "    https://scikit-learn.org/stable/modules/preprocessing.html\n",
      "Please also refer to the documentation for alternative solver options:\n",
      "    https://scikit-learn.org/stable/modules/linear_model.html#logistic-regression\n",
      "  n_iter_i = _check_optimize_result(\n",
      "C:\\Users\\hp\\anaconda3\\lib\\site-packages\\sklearn\\linear_model\\_logistic.py:763: ConvergenceWarning: lbfgs failed to converge (status=1):\n",
      "STOP: TOTAL NO. of ITERATIONS REACHED LIMIT.\n",
      "\n",
      "Increase the number of iterations (max_iter) or scale the data as shown in:\n",
      "    https://scikit-learn.org/stable/modules/preprocessing.html\n",
      "Please also refer to the documentation for alternative solver options:\n",
      "    https://scikit-learn.org/stable/modules/linear_model.html#logistic-regression\n",
      "  n_iter_i = _check_optimize_result(\n",
      "C:\\Users\\hp\\anaconda3\\lib\\site-packages\\sklearn\\linear_model\\_logistic.py:763: ConvergenceWarning: lbfgs failed to converge (status=1):\n",
      "STOP: TOTAL NO. of ITERATIONS REACHED LIMIT.\n",
      "\n",
      "Increase the number of iterations (max_iter) or scale the data as shown in:\n",
      "    https://scikit-learn.org/stable/modules/preprocessing.html\n",
      "Please also refer to the documentation for alternative solver options:\n",
      "    https://scikit-learn.org/stable/modules/linear_model.html#logistic-regression\n",
      "  n_iter_i = _check_optimize_result(\n",
      "C:\\Users\\hp\\anaconda3\\lib\\site-packages\\sklearn\\linear_model\\_logistic.py:763: ConvergenceWarning: lbfgs failed to converge (status=1):\n",
      "STOP: TOTAL NO. of ITERATIONS REACHED LIMIT.\n",
      "\n",
      "Increase the number of iterations (max_iter) or scale the data as shown in:\n",
      "    https://scikit-learn.org/stable/modules/preprocessing.html\n",
      "Please also refer to the documentation for alternative solver options:\n",
      "    https://scikit-learn.org/stable/modules/linear_model.html#logistic-regression\n",
      "  n_iter_i = _check_optimize_result(\n",
      "C:\\Users\\hp\\anaconda3\\lib\\site-packages\\sklearn\\linear_model\\_logistic.py:763: ConvergenceWarning: lbfgs failed to converge (status=1):\n",
      "STOP: TOTAL NO. of ITERATIONS REACHED LIMIT.\n",
      "\n",
      "Increase the number of iterations (max_iter) or scale the data as shown in:\n",
      "    https://scikit-learn.org/stable/modules/preprocessing.html\n",
      "Please also refer to the documentation for alternative solver options:\n",
      "    https://scikit-learn.org/stable/modules/linear_model.html#logistic-regression\n",
      "  n_iter_i = _check_optimize_result(\n",
      "C:\\Users\\hp\\anaconda3\\lib\\site-packages\\sklearn\\linear_model\\_logistic.py:763: ConvergenceWarning: lbfgs failed to converge (status=1):\n",
      "STOP: TOTAL NO. of ITERATIONS REACHED LIMIT.\n",
      "\n",
      "Increase the number of iterations (max_iter) or scale the data as shown in:\n",
      "    https://scikit-learn.org/stable/modules/preprocessing.html\n",
      "Please also refer to the documentation for alternative solver options:\n",
      "    https://scikit-learn.org/stable/modules/linear_model.html#logistic-regression\n",
      "  n_iter_i = _check_optimize_result(\n",
      "C:\\Users\\hp\\anaconda3\\lib\\site-packages\\sklearn\\linear_model\\_logistic.py:763: ConvergenceWarning: lbfgs failed to converge (status=1):\n",
      "STOP: TOTAL NO. of ITERATIONS REACHED LIMIT.\n",
      "\n",
      "Increase the number of iterations (max_iter) or scale the data as shown in:\n",
      "    https://scikit-learn.org/stable/modules/preprocessing.html\n",
      "Please also refer to the documentation for alternative solver options:\n",
      "    https://scikit-learn.org/stable/modules/linear_model.html#logistic-regression\n",
      "  n_iter_i = _check_optimize_result(\n"
     ]
    },
    {
     "name": "stdout",
     "output_type": "stream",
     "text": [
      "LogisticRegression - done\n"
     ]
    },
    {
     "name": "stderr",
     "output_type": "stream",
     "text": [
      "C:\\Users\\hp\\anaconda3\\lib\\site-packages\\sklearn\\linear_model\\_logistic.py:763: ConvergenceWarning: lbfgs failed to converge (status=1):\n",
      "STOP: TOTAL NO. of ITERATIONS REACHED LIMIT.\n",
      "\n",
      "Increase the number of iterations (max_iter) or scale the data as shown in:\n",
      "    https://scikit-learn.org/stable/modules/preprocessing.html\n",
      "Please also refer to the documentation for alternative solver options:\n",
      "    https://scikit-learn.org/stable/modules/linear_model.html#logistic-regression\n",
      "  n_iter_i = _check_optimize_result(\n"
     ]
    }
   ],
   "source": [
    "modelLR = runLogisticRegression(X_trainRos, Y_trainRos, X_testRos, Y_testRos)"
   ]
  },
  {
   "cell_type": "code",
   "execution_count": 26,
   "metadata": {},
   "outputs": [],
   "source": [
    "from sklearn.linear_model import LogisticRegression\n",
    "from sklearn.tree import DecisionTreeClassifier\n",
    "from sklearn.neighbors import KNeighborsClassifier"
   ]
  },
  {
   "cell_type": "code",
   "execution_count": 27,
   "metadata": {},
   "outputs": [],
   "source": [
    "#runKNN\n",
    "def runKnn(a,b,c,d):\n",
    "    model = KNeighborsClassifier()\n",
    "    model.fit(a,b)\n",
    "    kfold = model_selection.KFold(n_splits=10)\n",
    "    accuracy = model_selection.cross_val_score(model, c,d, cv=kfold, scoring='accuracy')\n",
    "    mean = accuracy.mean() \n",
    "    stdev = accuracy.std()\n",
    "    #print('KNeighbors - Training set accuracy: ', mean)\n",
    "    print('KNeighbors - done')"
   ]
  },
  {
   "cell_type": "code",
   "execution_count": 28,
   "metadata": {},
   "outputs": [
    {
     "name": "stdout",
     "output_type": "stream",
     "text": [
      "KNeighbors - done\n"
     ]
    }
   ],
   "source": [
    "modelKnn = runKnn(X_trainRos, Y_trainRos, X_testRos, Y_testRos)"
   ]
  },
  {
   "cell_type": "code",
   "execution_count": 38,
   "metadata": {},
   "outputs": [],
   "source": [
    "from sklearn.svm import SVC"
   ]
  },
  {
   "cell_type": "code",
   "execution_count": 39,
   "metadata": {},
   "outputs": [],
   "source": [
    "#runSVM\n",
    "def runSVM(a,b,c,d):\n",
    "    model = SVC()\n",
    "    model.fit(a,b)\n",
    "    kfold = model_selection.KFold(n_splits=10)\n",
    "    accuracy = model_selection.cross_val_score(model, c,d, cv=kfold, scoring='accuracy')\n",
    "    mean = accuracy.mean() \n",
    "    stdev = accuracy.std()\n",
    "    #print('Support Vector Machine SVC - Training set accuracy: ', mean)\n",
    "    print('Support Vector Machine SVC - done')"
   ]
  },
  {
   "cell_type": "code",
   "execution_count": 40,
   "metadata": {},
   "outputs": [
    {
     "name": "stdout",
     "output_type": "stream",
     "text": [
      "Support Vector Machine SVC - done\n"
     ]
    }
   ],
   "source": [
    "runSVM(X_trainRos, Y_trainRos, X_testRos, Y_testRos)"
   ]
  },
  {
   "cell_type": "code",
   "execution_count": 29,
   "metadata": {},
   "outputs": [],
   "source": [
    "from sklearn.tree import DecisionTreeClassifier"
   ]
  },
  {
   "cell_type": "code",
   "execution_count": 30,
   "metadata": {},
   "outputs": [],
   "source": [
    "#runDT\n",
    "def runDT(a,b,c,d):\n",
    "    model = DecisionTreeClassifier()\n",
    "    model.fit(a,b)\n",
    "    kfold = model_selection.KFold(n_splits=10)\n",
    "    accuracy = model_selection.cross_val_score(model, c,d, cv=kfold, scoring='accuracy')\n",
    "    mean = accuracy.mean() \n",
    "    stdev = accuracy.std()\n",
    "    #print('Decision Trees - Training set accuracy: ', mean)\n",
    "    print('Decision Trees - done')"
   ]
  },
  {
   "cell_type": "code",
   "execution_count": 31,
   "metadata": {},
   "outputs": [
    {
     "name": "stdout",
     "output_type": "stream",
     "text": [
      "Decision Trees - done\n"
     ]
    }
   ],
   "source": [
    "modelDT = runDT(X_trainRos, Y_trainRos, X_testRos, Y_testRos)"
   ]
  },
  {
   "cell_type": "code",
   "execution_count": 32,
   "metadata": {},
   "outputs": [],
   "source": [
    "#runRF\n",
    "def runRF(a,b,c,d):\n",
    "    model = RandomForestClassifier()\n",
    "    model.fit(a,b)\n",
    "    kfold = model_selection.KFold(n_splits=10)\n",
    "    accuracy = model_selection.cross_val_score(model, c,d, cv=kfold, scoring='accuracy')\n",
    "    mean = accuracy.mean() \n",
    "    stdev = accuracy.std()\n",
    "    #print('RandomForest - Training set accuracy: ', mean)\n",
    "    print('RandomForest - done')"
   ]
  },
  {
   "cell_type": "code",
   "execution_count": 33,
   "metadata": {},
   "outputs": [
    {
     "name": "stdout",
     "output_type": "stream",
     "text": [
      "RandomForest - done\n"
     ]
    }
   ],
   "source": [
    "modelRF = runRF(X_trainRos, Y_trainRos, X_testRos, Y_testRos)"
   ]
  },
  {
   "cell_type": "code",
   "execution_count": 34,
   "metadata": {},
   "outputs": [],
   "source": [
    "from sklearn.neighbors import KNeighborsClassifier\n",
    "\n",
    "estimators = {\n",
    "    'LogisticRegressionClassifier':[LogisticRegression()],\n",
    "    'KNeighborsClassifier': [KNeighborsClassifier()],\n",
    "    'DecisionTreeClassifier':[DecisionTreeClassifier()],\n",
    "    'RandomForestClassifier' :[RandomForestClassifier()],   \n",
    "}"
   ]
  },
  {
   "cell_type": "code",
   "execution_count": 35,
   "metadata": {
    "scrolled": false
   },
   "outputs": [
    {
     "name": "stderr",
     "output_type": "stream",
     "text": [
      "C:\\Users\\hp\\anaconda3\\lib\\site-packages\\sklearn\\linear_model\\_logistic.py:763: ConvergenceWarning: lbfgs failed to converge (status=1):\n",
      "STOP: TOTAL NO. of ITERATIONS REACHED LIMIT.\n",
      "\n",
      "Increase the number of iterations (max_iter) or scale the data as shown in:\n",
      "    https://scikit-learn.org/stable/modules/preprocessing.html\n",
      "Please also refer to the documentation for alternative solver options:\n",
      "    https://scikit-learn.org/stable/modules/linear_model.html#logistic-regression\n",
      "  n_iter_i = _check_optimize_result(\n"
     ]
    },
    {
     "name": "stdout",
     "output_type": "stream",
     "text": [
      "LogisticRegressionClassifier fitted\n",
      "KNeighborsClassifier fitted\n",
      "DecisionTreeClassifier fitted\n",
      "RandomForestClassifier fitted\n"
     ]
    }
   ],
   "source": [
    "X_train_scaled = X_trainRos.copy()\n",
    "\n",
    "def mfit(estimators, X_train, y_train):\n",
    "    for m in estimators:\n",
    "        estimators[m][0].fit(X_trainRos, Y_trainRos)\n",
    "        print(m+' fitted')\n",
    "\n",
    "mfit(estimators, X_train_scaled, Y_trainRos)"
   ]
  },
  {
   "cell_type": "code",
   "execution_count": 36,
   "metadata": {},
   "outputs": [],
   "source": [
    "from sklearn.metrics import roc_auc_score, confusion_matrix, classification_report\n",
    "X_test_scaled = X_testRos.copy()\n",
    "def mpredict(estimators, X_test, y_test):\n",
    "    outcome = dict()\n",
    "    r_a_score = dict()\n",
    "    for m in estimators:\n",
    "        y_pred = estimators[m][0].predict(X_testRos)\n",
    "        r_a_score[m] = roc_auc_score(Y_testRos, y_pred)\n",
    "        outcome[m] = [y_pred, confusion_matrix(y_pred,Y_testRos), classification_report(y_pred,Y_testRos)]\n",
    "    return outcome, r_a_score\n",
    "\n",
    "outcome, r_a_score = mpredict(estimators, X_test_scaled, Y_testRos)"
   ]
  },
  {
   "cell_type": "code",
   "execution_count": 37,
   "metadata": {
    "scrolled": false
   },
   "outputs": [
    {
     "name": "stdout",
     "output_type": "stream",
     "text": [
      "------------------------LogisticRegressionClassifier------------------------\n",
      "[[3832 1639]\n",
      " [1256 3449]]\n",
      "              precision    recall  f1-score   support\n",
      "\n",
      "           0       0.75      0.70      0.73      5471\n",
      "           1       0.68      0.73      0.70      4705\n",
      "\n",
      "    accuracy                           0.72     10176\n",
      "   macro avg       0.72      0.72      0.72     10176\n",
      "weighted avg       0.72      0.72      0.72     10176\n",
      "\n",
      "------------------------KNeighborsClassifier------------------------\n",
      "[[3480  884]\n",
      " [1608 4204]]\n",
      "              precision    recall  f1-score   support\n",
      "\n",
      "           0       0.68      0.80      0.74      4364\n",
      "           1       0.83      0.72      0.77      5812\n",
      "\n",
      "    accuracy                           0.76     10176\n",
      "   macro avg       0.76      0.76      0.75     10176\n",
      "weighted avg       0.77      0.76      0.76     10176\n",
      "\n",
      "------------------------DecisionTreeClassifier------------------------\n",
      "[[3432 1531]\n",
      " [1656 3557]]\n",
      "              precision    recall  f1-score   support\n",
      "\n",
      "           0       0.67      0.69      0.68      4963\n",
      "           1       0.70      0.68      0.69      5213\n",
      "\n",
      "    accuracy                           0.69     10176\n",
      "   macro avg       0.69      0.69      0.69     10176\n",
      "weighted avg       0.69      0.69      0.69     10176\n",
      "\n",
      "------------------------RandomForestClassifier------------------------\n",
      "[[4200 1187]\n",
      " [ 888 3901]]\n",
      "              precision    recall  f1-score   support\n",
      "\n",
      "           0       0.83      0.78      0.80      5387\n",
      "           1       0.77      0.81      0.79      4789\n",
      "\n",
      "    accuracy                           0.80     10176\n",
      "   macro avg       0.80      0.80      0.80     10176\n",
      "weighted avg       0.80      0.80      0.80     10176\n",
      "\n"
     ]
    }
   ],
   "source": [
    "for m in outcome:\n",
    "    print('------------------------'+m+'------------------------')\n",
    "    print(outcome[m][1])\n",
    "    print(outcome[m][2])"
   ]
  },
  {
   "cell_type": "code",
   "execution_count": 41,
   "metadata": {},
   "outputs": [],
   "source": [
    "from sklearn.neighbors import KNeighborsClassifier\n",
    "\n",
    "estimators = {\n",
    "    'SupportVectorMachineSVC':[SVC()], \n",
    "}"
   ]
  },
  {
   "cell_type": "code",
   "execution_count": 42,
   "metadata": {},
   "outputs": [
    {
     "name": "stdout",
     "output_type": "stream",
     "text": [
      "SupportVectorMachineSVC fitted\n"
     ]
    }
   ],
   "source": [
    "X_train_scaled = X_trainRos.copy()\n",
    "\n",
    "def mfit(estimators, X_train, y_train):\n",
    "    for m in estimators:\n",
    "        estimators[m][0].fit(X_trainRos, Y_trainRos)\n",
    "        print(m+' fitted')\n",
    "\n",
    "mfit(estimators, X_train_scaled, Y_trainRos)"
   ]
  },
  {
   "cell_type": "code",
   "execution_count": 43,
   "metadata": {},
   "outputs": [],
   "source": [
    "from sklearn.metrics import roc_auc_score, confusion_matrix, classification_report\n",
    "X_test_scaled = X_testRos.copy()\n",
    "def mpredict(estimators, X_test, y_test):\n",
    "    outcome = dict()\n",
    "    r_a_score = dict()\n",
    "    for m in estimators:\n",
    "        y_pred = estimators[m][0].predict(X_testRos)\n",
    "        r_a_score[m] = roc_auc_score(Y_testRos, y_pred)\n",
    "        outcome[m] = [y_pred, confusion_matrix(y_pred,Y_testRos), classification_report(y_pred,Y_testRos)]\n",
    "    return outcome, r_a_score\n",
    "\n",
    "outcome, r_a_score = mpredict(estimators, X_test_scaled, Y_testRos)"
   ]
  },
  {
   "cell_type": "code",
   "execution_count": 44,
   "metadata": {},
   "outputs": [
    {
     "name": "stdout",
     "output_type": "stream",
     "text": [
      "------------------------SupportVectorMachineSVC------------------------\n",
      "[[4230 1015]\n",
      " [ 858 4073]]\n",
      "              precision    recall  f1-score   support\n",
      "\n",
      "           0       0.83      0.81      0.82      5245\n",
      "           1       0.80      0.83      0.81      4931\n",
      "\n",
      "    accuracy                           0.82     10176\n",
      "   macro avg       0.82      0.82      0.82     10176\n",
      "weighted avg       0.82      0.82      0.82     10176\n",
      "\n"
     ]
    }
   ],
   "source": [
    "for m in outcome:\n",
    "    print('------------------------'+m+'------------------------')\n",
    "    print(outcome[m][1])\n",
    "    print(outcome[m][2])"
   ]
  },
  {
   "cell_type": "code",
   "execution_count": 2,
   "metadata": {},
   "outputs": [
    {
     "name": "stdout",
     "output_type": "stream",
     "text": [
      "Le classement des modèles :  [('SVM', 4), ('RF', 8), ('KNN', 12), ('LR', 16), ('DT', 20)]\n"
     ]
    }
   ],
   "source": [
    "voters = {\n",
    "    'DT': sum([5,5,5,5]),\n",
    "    'LR': sum([4,4,4,4]),\n",
    "    'KNN' : sum([3,3,3,3]),\n",
    "    'RF': sum([2,2,2,2]),\n",
    "    'SVM': sum([1,1,1,1])\n",
    "}\n",
    "sort_voters= sorted(voters.items(), key=lambda item: item[1])\n",
    "print(\"Le classement des modèles : \", sort_voters)"
   ]
  },
  {
   "cell_type": "code",
   "execution_count": null,
   "metadata": {},
   "outputs": [],
   "source": []
  }
 ],
 "metadata": {
  "kernelspec": {
   "display_name": "Python 3",
   "language": "python",
   "name": "python3"
  },
  "language_info": {
   "codemirror_mode": {
    "name": "ipython",
    "version": 3
   },
   "file_extension": ".py",
   "mimetype": "text/x-python",
   "name": "python",
   "nbconvert_exporter": "python",
   "pygments_lexer": "ipython3",
   "version": "3.8.5"
  }
 },
 "nbformat": 4,
 "nbformat_minor": 4
}
